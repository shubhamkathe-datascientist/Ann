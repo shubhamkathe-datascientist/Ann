{
 "cells": [
  {
   "cell_type": "code",
   "execution_count": 17,
   "id": "8e4ee54d",
   "metadata": {},
   "outputs": [],
   "source": [
    "import pandas as pd\n",
    "import numpy as np\n",
    "from keras.models import Sequential\n",
    "from keras.layers import Dense\n",
    "import matplotlib.pyplot as plt"
   ]
  },
  {
   "cell_type": "code",
   "execution_count": 18,
   "id": "80a731d0",
   "metadata": {},
   "outputs": [
    {
     "data": {
      "text/html": [
       "<div>\n",
       "<style scoped>\n",
       "    .dataframe tbody tr th:only-of-type {\n",
       "        vertical-align: middle;\n",
       "    }\n",
       "\n",
       "    .dataframe tbody tr th {\n",
       "        vertical-align: top;\n",
       "    }\n",
       "\n",
       "    .dataframe thead th {\n",
       "        text-align: right;\n",
       "    }\n",
       "</style>\n",
       "<table border=\"1\" class=\"dataframe\">\n",
       "  <thead>\n",
       "    <tr style=\"text-align: right;\">\n",
       "      <th></th>\n",
       "      <th>sepal_length</th>\n",
       "      <th>sepal_width</th>\n",
       "      <th>petal_length</th>\n",
       "      <th>petal_width</th>\n",
       "      <th>species</th>\n",
       "    </tr>\n",
       "  </thead>\n",
       "  <tbody>\n",
       "    <tr>\n",
       "      <th>0</th>\n",
       "      <td>5.1</td>\n",
       "      <td>3.5</td>\n",
       "      <td>1.4</td>\n",
       "      <td>0.2</td>\n",
       "      <td>setosa</td>\n",
       "    </tr>\n",
       "    <tr>\n",
       "      <th>1</th>\n",
       "      <td>4.9</td>\n",
       "      <td>3.0</td>\n",
       "      <td>1.4</td>\n",
       "      <td>0.2</td>\n",
       "      <td>setosa</td>\n",
       "    </tr>\n",
       "    <tr>\n",
       "      <th>2</th>\n",
       "      <td>4.7</td>\n",
       "      <td>3.2</td>\n",
       "      <td>1.3</td>\n",
       "      <td>0.2</td>\n",
       "      <td>setosa</td>\n",
       "    </tr>\n",
       "    <tr>\n",
       "      <th>3</th>\n",
       "      <td>4.6</td>\n",
       "      <td>3.1</td>\n",
       "      <td>1.5</td>\n",
       "      <td>0.2</td>\n",
       "      <td>setosa</td>\n",
       "    </tr>\n",
       "    <tr>\n",
       "      <th>4</th>\n",
       "      <td>5.0</td>\n",
       "      <td>3.6</td>\n",
       "      <td>1.4</td>\n",
       "      <td>0.2</td>\n",
       "      <td>setosa</td>\n",
       "    </tr>\n",
       "  </tbody>\n",
       "</table>\n",
       "</div>"
      ],
      "text/plain": [
       "   sepal_length  sepal_width  petal_length  petal_width species\n",
       "0           5.1          3.5           1.4          0.2  setosa\n",
       "1           4.9          3.0           1.4          0.2  setosa\n",
       "2           4.7          3.2           1.3          0.2  setosa\n",
       "3           4.6          3.1           1.5          0.2  setosa\n",
       "4           5.0          3.6           1.4          0.2  setosa"
      ]
     },
     "execution_count": 18,
     "metadata": {},
     "output_type": "execute_result"
    }
   ],
   "source": [
    "# We'll load the Iri datset\n",
    "ir = sns.load_dataset(\"iris\")\n",
    "ir.head()"
   ]
  },
  {
   "cell_type": "code",
   "execution_count": 46,
   "id": "4e5ffb0a",
   "metadata": {},
   "outputs": [
    {
     "data": {
      "text/plain": [
       "0    0\n",
       "1    0\n",
       "2    0\n",
       "3    0\n",
       "4    0\n",
       "Name: species, dtype: int64"
      ]
     },
     "execution_count": 46,
     "metadata": {},
     "output_type": "execute_result"
    }
   ],
   "source": [
    "ir.species.head()"
   ]
  },
  {
   "cell_type": "code",
   "execution_count": null,
   "id": "92a3301b",
   "metadata": {},
   "outputs": [],
   "source": []
  },
  {
   "cell_type": "code",
   "execution_count": 19,
   "id": "694b5a3f",
   "metadata": {},
   "outputs": [
    {
     "data": {
      "text/plain": [
       "(150, 5)"
      ]
     },
     "execution_count": 19,
     "metadata": {},
     "output_type": "execute_result"
    }
   ],
   "source": [
    "ir.shape"
   ]
  },
  {
   "cell_type": "code",
   "execution_count": 20,
   "id": "86e311d1",
   "metadata": {},
   "outputs": [
    {
     "name": "stdout",
     "output_type": "stream",
     "text": [
      "<class 'pandas.core.frame.DataFrame'>\n",
      "RangeIndex: 150 entries, 0 to 149\n",
      "Data columns (total 5 columns):\n",
      " #   Column        Non-Null Count  Dtype  \n",
      "---  ------        --------------  -----  \n",
      " 0   sepal_length  150 non-null    float64\n",
      " 1   sepal_width   150 non-null    float64\n",
      " 2   petal_length  150 non-null    float64\n",
      " 3   petal_width   150 non-null    float64\n",
      " 4   species       150 non-null    object \n",
      "dtypes: float64(4), object(1)\n",
      "memory usage: 6.0+ KB\n"
     ]
    }
   ],
   "source": [
    "ir.info()"
   ]
  },
  {
   "cell_type": "code",
   "execution_count": 21,
   "id": "5689bb95",
   "metadata": {},
   "outputs": [
    {
     "data": {
      "text/html": [
       "<div>\n",
       "<style scoped>\n",
       "    .dataframe tbody tr th:only-of-type {\n",
       "        vertical-align: middle;\n",
       "    }\n",
       "\n",
       "    .dataframe tbody tr th {\n",
       "        vertical-align: top;\n",
       "    }\n",
       "\n",
       "    .dataframe thead th {\n",
       "        text-align: right;\n",
       "    }\n",
       "</style>\n",
       "<table border=\"1\" class=\"dataframe\">\n",
       "  <thead>\n",
       "    <tr style=\"text-align: right;\">\n",
       "      <th></th>\n",
       "      <th>sepal_length</th>\n",
       "      <th>sepal_width</th>\n",
       "      <th>petal_length</th>\n",
       "      <th>petal_width</th>\n",
       "    </tr>\n",
       "  </thead>\n",
       "  <tbody>\n",
       "    <tr>\n",
       "      <th>count</th>\n",
       "      <td>150.000000</td>\n",
       "      <td>150.000000</td>\n",
       "      <td>150.000000</td>\n",
       "      <td>150.000000</td>\n",
       "    </tr>\n",
       "    <tr>\n",
       "      <th>mean</th>\n",
       "      <td>5.843333</td>\n",
       "      <td>3.057333</td>\n",
       "      <td>3.758000</td>\n",
       "      <td>1.199333</td>\n",
       "    </tr>\n",
       "    <tr>\n",
       "      <th>std</th>\n",
       "      <td>0.828066</td>\n",
       "      <td>0.435866</td>\n",
       "      <td>1.765298</td>\n",
       "      <td>0.762238</td>\n",
       "    </tr>\n",
       "    <tr>\n",
       "      <th>min</th>\n",
       "      <td>4.300000</td>\n",
       "      <td>2.000000</td>\n",
       "      <td>1.000000</td>\n",
       "      <td>0.100000</td>\n",
       "    </tr>\n",
       "    <tr>\n",
       "      <th>25%</th>\n",
       "      <td>5.100000</td>\n",
       "      <td>2.800000</td>\n",
       "      <td>1.600000</td>\n",
       "      <td>0.300000</td>\n",
       "    </tr>\n",
       "    <tr>\n",
       "      <th>50%</th>\n",
       "      <td>5.800000</td>\n",
       "      <td>3.000000</td>\n",
       "      <td>4.350000</td>\n",
       "      <td>1.300000</td>\n",
       "    </tr>\n",
       "    <tr>\n",
       "      <th>75%</th>\n",
       "      <td>6.400000</td>\n",
       "      <td>3.300000</td>\n",
       "      <td>5.100000</td>\n",
       "      <td>1.800000</td>\n",
       "    </tr>\n",
       "    <tr>\n",
       "      <th>max</th>\n",
       "      <td>7.900000</td>\n",
       "      <td>4.400000</td>\n",
       "      <td>6.900000</td>\n",
       "      <td>2.500000</td>\n",
       "    </tr>\n",
       "  </tbody>\n",
       "</table>\n",
       "</div>"
      ],
      "text/plain": [
       "       sepal_length  sepal_width  petal_length  petal_width\n",
       "count    150.000000   150.000000    150.000000   150.000000\n",
       "mean       5.843333     3.057333      3.758000     1.199333\n",
       "std        0.828066     0.435866      1.765298     0.762238\n",
       "min        4.300000     2.000000      1.000000     0.100000\n",
       "25%        5.100000     2.800000      1.600000     0.300000\n",
       "50%        5.800000     3.000000      4.350000     1.300000\n",
       "75%        6.400000     3.300000      5.100000     1.800000\n",
       "max        7.900000     4.400000      6.900000     2.500000"
      ]
     },
     "execution_count": 21,
     "metadata": {},
     "output_type": "execute_result"
    }
   ],
   "source": [
    "ir.describe()"
   ]
  },
  {
   "cell_type": "code",
   "execution_count": 22,
   "id": "d21be659",
   "metadata": {},
   "outputs": [
    {
     "data": {
      "text/plain": [
       "setosa        50\n",
       "versicolor    50\n",
       "virginica     50\n",
       "Name: species, dtype: int64"
      ]
     },
     "execution_count": 22,
     "metadata": {},
     "output_type": "execute_result"
    }
   ],
   "source": [
    "# Understanding the data\n",
    "ir[\"species\"].value_counts()"
   ]
  },
  {
   "cell_type": "code",
   "execution_count": 23,
   "id": "c4a08f03",
   "metadata": {},
   "outputs": [
    {
     "data": {
      "text/plain": [
       "sepal_length    0\n",
       "sepal_width     0\n",
       "petal_length    0\n",
       "petal_width     0\n",
       "species         0\n",
       "dtype: int64"
      ]
     },
     "execution_count": 23,
     "metadata": {},
     "output_type": "execute_result"
    }
   ],
   "source": [
    "ir.isnull().sum()"
   ]
  },
  {
   "cell_type": "code",
   "execution_count": 24,
   "id": "56f39317",
   "metadata": {},
   "outputs": [],
   "source": [
    "ir.species.replace({'setosa':0, \"versicolor\":1,'virginica':2 }, inplace=True)"
   ]
  },
  {
   "cell_type": "code",
   "execution_count": 25,
   "id": "348ac09b",
   "metadata": {},
   "outputs": [
    {
     "data": {
      "text/html": [
       "<div>\n",
       "<style scoped>\n",
       "    .dataframe tbody tr th:only-of-type {\n",
       "        vertical-align: middle;\n",
       "    }\n",
       "\n",
       "    .dataframe tbody tr th {\n",
       "        vertical-align: top;\n",
       "    }\n",
       "\n",
       "    .dataframe thead th {\n",
       "        text-align: right;\n",
       "    }\n",
       "</style>\n",
       "<table border=\"1\" class=\"dataframe\">\n",
       "  <thead>\n",
       "    <tr style=\"text-align: right;\">\n",
       "      <th></th>\n",
       "      <th>sepal_length</th>\n",
       "      <th>sepal_width</th>\n",
       "      <th>petal_length</th>\n",
       "      <th>petal_width</th>\n",
       "      <th>species</th>\n",
       "    </tr>\n",
       "  </thead>\n",
       "  <tbody>\n",
       "    <tr>\n",
       "      <th>0</th>\n",
       "      <td>5.1</td>\n",
       "      <td>3.5</td>\n",
       "      <td>1.4</td>\n",
       "      <td>0.2</td>\n",
       "      <td>0</td>\n",
       "    </tr>\n",
       "    <tr>\n",
       "      <th>1</th>\n",
       "      <td>4.9</td>\n",
       "      <td>3.0</td>\n",
       "      <td>1.4</td>\n",
       "      <td>0.2</td>\n",
       "      <td>0</td>\n",
       "    </tr>\n",
       "    <tr>\n",
       "      <th>2</th>\n",
       "      <td>4.7</td>\n",
       "      <td>3.2</td>\n",
       "      <td>1.3</td>\n",
       "      <td>0.2</td>\n",
       "      <td>0</td>\n",
       "    </tr>\n",
       "    <tr>\n",
       "      <th>3</th>\n",
       "      <td>4.6</td>\n",
       "      <td>3.1</td>\n",
       "      <td>1.5</td>\n",
       "      <td>0.2</td>\n",
       "      <td>0</td>\n",
       "    </tr>\n",
       "    <tr>\n",
       "      <th>4</th>\n",
       "      <td>5.0</td>\n",
       "      <td>3.6</td>\n",
       "      <td>1.4</td>\n",
       "      <td>0.2</td>\n",
       "      <td>0</td>\n",
       "    </tr>\n",
       "  </tbody>\n",
       "</table>\n",
       "</div>"
      ],
      "text/plain": [
       "   sepal_length  sepal_width  petal_length  petal_width  species\n",
       "0           5.1          3.5           1.4          0.2        0\n",
       "1           4.9          3.0           1.4          0.2        0\n",
       "2           4.7          3.2           1.3          0.2        0\n",
       "3           4.6          3.1           1.5          0.2        0\n",
       "4           5.0          3.6           1.4          0.2        0"
      ]
     },
     "execution_count": 25,
     "metadata": {},
     "output_type": "execute_result"
    }
   ],
   "source": [
    "ir.head()"
   ]
  },
  {
   "cell_type": "code",
   "execution_count": 26,
   "id": "6d070149",
   "metadata": {},
   "outputs": [],
   "source": [
    "from sklearn.model_selection import train_test_split\n",
    "\n",
    "ir_train,ir_test=train_test_split(ir,test_size=.2)"
   ]
  },
  {
   "cell_type": "code",
   "execution_count": 27,
   "id": "13c71edd",
   "metadata": {},
   "outputs": [],
   "source": [
    "ir_train_x=ir_train.iloc[:,0:-1]\n",
    "ir_train_y=ir_train.iloc[:,-1]\n",
    "\n",
    "ir_test_x=ir_test.iloc[:,0:-1]\n",
    "ir_test_y=ir_test.iloc[:,-1]"
   ]
  },
  {
   "cell_type": "code",
   "execution_count": 32,
   "id": "c8879ea4",
   "metadata": {},
   "outputs": [],
   "source": [
    "from keras.models import Sequential \n",
    "from keras.layers import  Dense \n",
    "from tensorflow.keras.utils import to_categorical\n"
   ]
  },
  {
   "cell_type": "code",
   "execution_count": 33,
   "id": "942e43a7",
   "metadata": {},
   "outputs": [],
   "source": [
    "model = Sequential()\n",
    "model.add(Dense(100,input_shape=(4,),activation=\"relu\"))\n",
    "model.add(Dense(3, activation='softmax'))\n",
    "# sequential means the exexicution of the model"
   ]
  },
  {
   "cell_type": "code",
   "execution_count": 34,
   "id": "a17f3722",
   "metadata": {},
   "outputs": [],
   "source": [
    "model.compile(optimizer= 'adam',loss= 'sparse_categorical_crossentropy', metrics =['accuracy'])\n",
    "\n",
    "#use other optimizer(sgd)check the accuracy"
   ]
  },
  {
   "cell_type": "code",
   "execution_count": 37,
   "id": "7bc82c7e",
   "metadata": {},
   "outputs": [
    {
     "name": "stdout",
     "output_type": "stream",
     "text": [
      "Epoch 1/20\n",
      "3/3 [==============================] - 0s 46ms/step - loss: 0.3999 - accuracy: 0.8854 - val_loss: 0.5227 - val_accuracy: 0.7917\n",
      "Epoch 2/20\n",
      "3/3 [==============================] - 0s 21ms/step - loss: 0.3944 - accuracy: 0.8958 - val_loss: 0.5170 - val_accuracy: 0.8333\n",
      "Epoch 3/20\n",
      "3/3 [==============================] - 0s 22ms/step - loss: 0.3896 - accuracy: 0.9062 - val_loss: 0.5114 - val_accuracy: 0.8333\n",
      "Epoch 4/20\n",
      "3/3 [==============================] - 0s 18ms/step - loss: 0.3844 - accuracy: 0.9271 - val_loss: 0.5067 - val_accuracy: 0.8333\n",
      "Epoch 5/20\n",
      "3/3 [==============================] - 0s 18ms/step - loss: 0.3799 - accuracy: 0.9167 - val_loss: 0.5018 - val_accuracy: 0.8333\n",
      "Epoch 6/20\n",
      "3/3 [==============================] - 0s 18ms/step - loss: 0.3746 - accuracy: 0.9062 - val_loss: 0.4976 - val_accuracy: 0.8333\n",
      "Epoch 7/20\n",
      "3/3 [==============================] - 0s 18ms/step - loss: 0.3698 - accuracy: 0.9062 - val_loss: 0.4933 - val_accuracy: 0.8333\n",
      "Epoch 8/20\n",
      "3/3 [==============================] - 0s 17ms/step - loss: 0.3659 - accuracy: 0.9062 - val_loss: 0.4892 - val_accuracy: 0.8333\n",
      "Epoch 9/20\n",
      "3/3 [==============================] - 0s 18ms/step - loss: 0.3619 - accuracy: 0.9062 - val_loss: 0.4852 - val_accuracy: 0.8333\n",
      "Epoch 10/20\n",
      "3/3 [==============================] - 0s 22ms/step - loss: 0.3580 - accuracy: 0.9062 - val_loss: 0.4809 - val_accuracy: 0.8333\n",
      "Epoch 11/20\n",
      "3/3 [==============================] - 0s 18ms/step - loss: 0.3541 - accuracy: 0.9375 - val_loss: 0.4771 - val_accuracy: 0.8333\n",
      "Epoch 12/20\n",
      "3/3 [==============================] - 0s 18ms/step - loss: 0.3500 - accuracy: 0.9375 - val_loss: 0.4731 - val_accuracy: 0.8333\n",
      "Epoch 13/20\n",
      "3/3 [==============================] - 0s 19ms/step - loss: 0.3453 - accuracy: 0.9375 - val_loss: 0.4693 - val_accuracy: 0.8333\n",
      "Epoch 14/20\n",
      "3/3 [==============================] - 0s 17ms/step - loss: 0.3417 - accuracy: 0.9375 - val_loss: 0.4658 - val_accuracy: 0.8333\n",
      "Epoch 15/20\n",
      "3/3 [==============================] - 0s 18ms/step - loss: 0.3381 - accuracy: 0.9375 - val_loss: 0.4625 - val_accuracy: 0.8333\n",
      "Epoch 16/20\n",
      "3/3 [==============================] - 0s 17ms/step - loss: 0.3344 - accuracy: 0.9375 - val_loss: 0.4589 - val_accuracy: 0.8333\n",
      "Epoch 17/20\n",
      "3/3 [==============================] - 0s 19ms/step - loss: 0.3311 - accuracy: 0.9375 - val_loss: 0.4552 - val_accuracy: 0.8333\n",
      "Epoch 18/20\n",
      "3/3 [==============================] - 0s 20ms/step - loss: 0.3281 - accuracy: 0.9375 - val_loss: 0.4515 - val_accuracy: 0.8333\n",
      "Epoch 19/20\n",
      "3/3 [==============================] - 0s 19ms/step - loss: 0.3248 - accuracy: 0.9375 - val_loss: 0.4480 - val_accuracy: 0.8333\n",
      "Epoch 20/20\n",
      "3/3 [==============================] - 0s 20ms/step - loss: 0.3213 - accuracy: 0.9375 - val_loss: 0.4444 - val_accuracy: 0.8333\n"
     ]
    }
   ],
   "source": [
    "#history = model.fit(ir_train_x_std, ir_train_y, validation_split=0.1, epochs=20)\n",
    "model1= model.fit(ir_train_x ,ir_train_y , epochs=20 ,validation_split=.2,batch_size =32)"
   ]
  },
  {
   "cell_type": "code",
   "execution_count": 41,
   "id": "aa384919",
   "metadata": {},
   "outputs": [
    {
     "name": "stdout",
     "output_type": "stream",
     "text": [
      "1/1 [==============================] - 0s 30ms/step - loss: 0.5076 - accuracy: 0.9000\n"
     ]
    },
    {
     "data": {
      "text/plain": [
       "[0.5076186656951904, 0.8999999761581421]"
      ]
     },
     "execution_count": 41,
     "metadata": {},
     "output_type": "execute_result"
    }
   ],
   "source": [
    "model.evaluate(ir_test_x,ir_test_y)"
   ]
  },
  {
   "cell_type": "code",
   "execution_count": 52,
   "id": "21efbaad",
   "metadata": {},
   "outputs": [
    {
     "name": "stdout",
     "output_type": "stream",
     "text": [
      "1/1 [==============================] - 0s 17ms/step\n"
     ]
    },
    {
     "data": {
      "text/plain": [
       "array([[0.10398124, 0.5689037 , 0.32711503],\n",
       "       [0.01248276, 0.44221064, 0.5453066 ],\n",
       "       [0.08272808, 0.50999737, 0.40727457],\n",
       "       [0.0048571 , 0.21535397, 0.7797889 ],\n",
       "       [0.04489155, 0.40830386, 0.5468046 ],\n",
       "       [0.8926953 , 0.09409193, 0.01321265],\n",
       "       [0.02846486, 0.35181898, 0.6197162 ],\n",
       "       [0.00501181, 0.2546993 , 0.7402889 ],\n",
       "       [0.00206358, 0.29583156, 0.7021048 ],\n",
       "       [0.00560156, 0.3080438 , 0.6863546 ],\n",
       "       [0.00852565, 0.34391725, 0.6475571 ],\n",
       "       [0.9155489 , 0.0765339 , 0.00791712],\n",
       "       [0.15330581, 0.53649735, 0.31019682],\n",
       "       [0.08308977, 0.576745  , 0.34016526],\n",
       "       [0.00862739, 0.22776164, 0.76361096],\n",
       "       [0.00439134, 0.23792733, 0.7576813 ],\n",
       "       [0.09560349, 0.48830044, 0.4160961 ],\n",
       "       [0.05356185, 0.48815477, 0.45828333],\n",
       "       [0.00590561, 0.20408092, 0.7900135 ],\n",
       "       [0.07938108, 0.49692243, 0.4236965 ],\n",
       "       [0.24373494, 0.5046042 , 0.25166082],\n",
       "       [0.05409864, 0.46201178, 0.48388958],\n",
       "       [0.05798152, 0.54230356, 0.3997149 ],\n",
       "       [0.09462819, 0.5815935 , 0.32377824],\n",
       "       [0.04769806, 0.5168937 , 0.43540823],\n",
       "       [0.08872816, 0.577995  , 0.3332769 ],\n",
       "       [0.9024063 , 0.08716446, 0.01042926],\n",
       "       [0.04774268, 0.54728407, 0.4049733 ],\n",
       "       [0.02475489, 0.366928  , 0.60831714],\n",
       "       [0.00942655, 0.33266652, 0.65790695]], dtype=float32)"
      ]
     },
     "execution_count": 52,
     "metadata": {},
     "output_type": "execute_result"
    }
   ],
   "source": [
    "pred=model.predict(ir_test_x)\n",
    "pred"
   ]
  },
  {
   "cell_type": "code",
   "execution_count": 53,
   "id": "49f1c101",
   "metadata": {},
   "outputs": [],
   "source": [
    "pred_classes = np.argmax(pred , axis =1 )"
   ]
  },
  {
   "cell_type": "code",
   "execution_count": 54,
   "id": "5e451146",
   "metadata": {},
   "outputs": [
    {
     "name": "stdout",
     "output_type": "stream",
     "text": [
      "[1 2 1 2 2 0 2 2 2 2 2 0 1 1 2 2 1 1 2 1 1 2 1 1 1 1 0 1 2 2]\n",
      "67     1\n",
      "129    2\n",
      "99     1\n",
      "144    2\n",
      "66     1\n",
      "8      0\n",
      "70     1\n",
      "128    2\n",
      "122    2\n",
      "102    2\n",
      "134    2\n",
      "9      0\n",
      "93     1\n",
      "75     1\n",
      "148    2\n",
      "132    2\n",
      "88     1\n",
      "91     1\n",
      "136    2\n",
      "96     1\n",
      "98     1\n",
      "56     1\n",
      "86     1\n",
      "65     1\n",
      "73     1\n",
      "74     1\n",
      "45     0\n",
      "52     1\n",
      "138    2\n",
      "111    2\n",
      "Name: species, dtype: int64\n"
     ]
    }
   ],
   "source": [
    "print(pred_classes)\n",
    "print(ir_test_y)"
   ]
  },
  {
   "cell_type": "code",
   "execution_count": 55,
   "id": "3854b4c4",
   "metadata": {},
   "outputs": [],
   "source": [
    "from sklearn.metrics import confusion_matrix"
   ]
  },
  {
   "cell_type": "code",
   "execution_count": 56,
   "id": "f05dd88f",
   "metadata": {},
   "outputs": [
    {
     "data": {
      "text/plain": [
       "(30,)"
      ]
     },
     "execution_count": 56,
     "metadata": {},
     "output_type": "execute_result"
    }
   ],
   "source": [
    "ir_test_y.shape"
   ]
  },
  {
   "cell_type": "code",
   "execution_count": 57,
   "id": "4aaa04f7",
   "metadata": {},
   "outputs": [
    {
     "data": {
      "text/plain": [
       "(30,)"
      ]
     },
     "execution_count": 57,
     "metadata": {},
     "output_type": "execute_result"
    }
   ],
   "source": [
    "pred_classes.shape"
   ]
  },
  {
   "cell_type": "code",
   "execution_count": 58,
   "id": "7001ae3b",
   "metadata": {},
   "outputs": [
    {
     "data": {
      "text/plain": [
       "array([[ 3,  0,  0],\n",
       "       [ 0, 13,  3],\n",
       "       [ 0,  0, 11]], dtype=int64)"
      ]
     },
     "execution_count": 58,
     "metadata": {},
     "output_type": "execute_result"
    }
   ],
   "source": [
    "from sklearn.metrics import confusion_matrix\n",
    "tab=confusion_matrix(ir_test_y ,pred_classes )\n",
    "tab"
   ]
  },
  {
   "cell_type": "code",
   "execution_count": 60,
   "id": "dcf6a90e",
   "metadata": {},
   "outputs": [
    {
     "data": {
      "text/plain": [
       "0.9"
      ]
     },
     "execution_count": 60,
     "metadata": {},
     "output_type": "execute_result"
    }
   ],
   "source": [
    "from sklearn.metrics import accuracy_score\n",
    "accuracy_score(ir_test_y ,pred_classes )"
   ]
  },
  {
   "cell_type": "code",
   "execution_count": 68,
   "id": "83428410",
   "metadata": {},
   "outputs": [
    {
     "name": "stdout",
     "output_type": "stream",
     "text": [
      "              precision    recall  f1-score   support\n",
      "\n",
      "           0       1.00      1.00      1.00         3\n",
      "           1       1.00      0.81      0.90        16\n",
      "           2       0.79      1.00      0.88        11\n",
      "\n",
      "    accuracy                           0.90        30\n",
      "   macro avg       0.93      0.94      0.93        30\n",
      "weighted avg       0.92      0.90      0.90        30\n",
      "\n"
     ]
    }
   ],
   "source": [
    "\n",
    "\n",
    "from sklearn import metrics \n",
    "from sklearn.metrics import f1_score\n",
    "\n",
    "classification_report = metrics.classification_report(ir_test_y ,pred_classes )\n",
    "\n",
    "print(classification_report)"
   ]
  },
  {
   "cell_type": "code",
   "execution_count": 61,
   "id": "2a0e0508",
   "metadata": {},
   "outputs": [
    {
     "data": {
      "text/html": [
       "<div>\n",
       "<style scoped>\n",
       "    .dataframe tbody tr th:only-of-type {\n",
       "        vertical-align: middle;\n",
       "    }\n",
       "\n",
       "    .dataframe tbody tr th {\n",
       "        vertical-align: top;\n",
       "    }\n",
       "\n",
       "    .dataframe thead th {\n",
       "        text-align: right;\n",
       "    }\n",
       "</style>\n",
       "<table border=\"1\" class=\"dataframe\">\n",
       "  <thead>\n",
       "    <tr style=\"text-align: right;\">\n",
       "      <th></th>\n",
       "      <th>loss</th>\n",
       "      <th>accuracy</th>\n",
       "      <th>val_loss</th>\n",
       "      <th>val_accuracy</th>\n",
       "    </tr>\n",
       "  </thead>\n",
       "  <tbody>\n",
       "    <tr>\n",
       "      <th>0</th>\n",
       "      <td>0.399915</td>\n",
       "      <td>0.885417</td>\n",
       "      <td>0.522727</td>\n",
       "      <td>0.791667</td>\n",
       "    </tr>\n",
       "    <tr>\n",
       "      <th>1</th>\n",
       "      <td>0.394396</td>\n",
       "      <td>0.895833</td>\n",
       "      <td>0.516966</td>\n",
       "      <td>0.833333</td>\n",
       "    </tr>\n",
       "    <tr>\n",
       "      <th>2</th>\n",
       "      <td>0.389589</td>\n",
       "      <td>0.906250</td>\n",
       "      <td>0.511393</td>\n",
       "      <td>0.833333</td>\n",
       "    </tr>\n",
       "    <tr>\n",
       "      <th>3</th>\n",
       "      <td>0.384381</td>\n",
       "      <td>0.927083</td>\n",
       "      <td>0.506711</td>\n",
       "      <td>0.833333</td>\n",
       "    </tr>\n",
       "    <tr>\n",
       "      <th>4</th>\n",
       "      <td>0.379932</td>\n",
       "      <td>0.916667</td>\n",
       "      <td>0.501751</td>\n",
       "      <td>0.833333</td>\n",
       "    </tr>\n",
       "    <tr>\n",
       "      <th>5</th>\n",
       "      <td>0.374571</td>\n",
       "      <td>0.906250</td>\n",
       "      <td>0.497574</td>\n",
       "      <td>0.833333</td>\n",
       "    </tr>\n",
       "    <tr>\n",
       "      <th>6</th>\n",
       "      <td>0.369814</td>\n",
       "      <td>0.906250</td>\n",
       "      <td>0.493279</td>\n",
       "      <td>0.833333</td>\n",
       "    </tr>\n",
       "    <tr>\n",
       "      <th>7</th>\n",
       "      <td>0.365938</td>\n",
       "      <td>0.906250</td>\n",
       "      <td>0.489163</td>\n",
       "      <td>0.833333</td>\n",
       "    </tr>\n",
       "    <tr>\n",
       "      <th>8</th>\n",
       "      <td>0.361895</td>\n",
       "      <td>0.906250</td>\n",
       "      <td>0.485188</td>\n",
       "      <td>0.833333</td>\n",
       "    </tr>\n",
       "    <tr>\n",
       "      <th>9</th>\n",
       "      <td>0.357969</td>\n",
       "      <td>0.906250</td>\n",
       "      <td>0.480865</td>\n",
       "      <td>0.833333</td>\n",
       "    </tr>\n",
       "    <tr>\n",
       "      <th>10</th>\n",
       "      <td>0.354128</td>\n",
       "      <td>0.937500</td>\n",
       "      <td>0.477147</td>\n",
       "      <td>0.833333</td>\n",
       "    </tr>\n",
       "    <tr>\n",
       "      <th>11</th>\n",
       "      <td>0.349964</td>\n",
       "      <td>0.937500</td>\n",
       "      <td>0.473104</td>\n",
       "      <td>0.833333</td>\n",
       "    </tr>\n",
       "    <tr>\n",
       "      <th>12</th>\n",
       "      <td>0.345267</td>\n",
       "      <td>0.937500</td>\n",
       "      <td>0.469278</td>\n",
       "      <td>0.833333</td>\n",
       "    </tr>\n",
       "    <tr>\n",
       "      <th>13</th>\n",
       "      <td>0.341693</td>\n",
       "      <td>0.937500</td>\n",
       "      <td>0.465764</td>\n",
       "      <td>0.833333</td>\n",
       "    </tr>\n",
       "    <tr>\n",
       "      <th>14</th>\n",
       "      <td>0.338067</td>\n",
       "      <td>0.937500</td>\n",
       "      <td>0.462525</td>\n",
       "      <td>0.833333</td>\n",
       "    </tr>\n",
       "    <tr>\n",
       "      <th>15</th>\n",
       "      <td>0.334402</td>\n",
       "      <td>0.937500</td>\n",
       "      <td>0.458945</td>\n",
       "      <td>0.833333</td>\n",
       "    </tr>\n",
       "    <tr>\n",
       "      <th>16</th>\n",
       "      <td>0.331111</td>\n",
       "      <td>0.937500</td>\n",
       "      <td>0.455165</td>\n",
       "      <td>0.833333</td>\n",
       "    </tr>\n",
       "    <tr>\n",
       "      <th>17</th>\n",
       "      <td>0.328081</td>\n",
       "      <td>0.937500</td>\n",
       "      <td>0.451549</td>\n",
       "      <td>0.833333</td>\n",
       "    </tr>\n",
       "    <tr>\n",
       "      <th>18</th>\n",
       "      <td>0.324833</td>\n",
       "      <td>0.937500</td>\n",
       "      <td>0.447961</td>\n",
       "      <td>0.833333</td>\n",
       "    </tr>\n",
       "    <tr>\n",
       "      <th>19</th>\n",
       "      <td>0.321257</td>\n",
       "      <td>0.937500</td>\n",
       "      <td>0.444433</td>\n",
       "      <td>0.833333</td>\n",
       "    </tr>\n",
       "  </tbody>\n",
       "</table>\n",
       "</div>"
      ],
      "text/plain": [
       "        loss  accuracy  val_loss  val_accuracy\n",
       "0   0.399915  0.885417  0.522727      0.791667\n",
       "1   0.394396  0.895833  0.516966      0.833333\n",
       "2   0.389589  0.906250  0.511393      0.833333\n",
       "3   0.384381  0.927083  0.506711      0.833333\n",
       "4   0.379932  0.916667  0.501751      0.833333\n",
       "5   0.374571  0.906250  0.497574      0.833333\n",
       "6   0.369814  0.906250  0.493279      0.833333\n",
       "7   0.365938  0.906250  0.489163      0.833333\n",
       "8   0.361895  0.906250  0.485188      0.833333\n",
       "9   0.357969  0.906250  0.480865      0.833333\n",
       "10  0.354128  0.937500  0.477147      0.833333\n",
       "11  0.349964  0.937500  0.473104      0.833333\n",
       "12  0.345267  0.937500  0.469278      0.833333\n",
       "13  0.341693  0.937500  0.465764      0.833333\n",
       "14  0.338067  0.937500  0.462525      0.833333\n",
       "15  0.334402  0.937500  0.458945      0.833333\n",
       "16  0.331111  0.937500  0.455165      0.833333\n",
       "17  0.328081  0.937500  0.451549      0.833333\n",
       "18  0.324833  0.937500  0.447961      0.833333\n",
       "19  0.321257  0.937500  0.444433      0.833333"
      ]
     },
     "execution_count": 61,
     "metadata": {},
     "output_type": "execute_result"
    }
   ],
   "source": [
    "df1 = pd.DataFrame(model1.history)\n",
    "df1"
   ]
  },
  {
   "cell_type": "code",
   "execution_count": 67,
   "id": "8f3b380c",
   "metadata": {},
   "outputs": [
    {
     "data": {
      "image/png": "[encoded data removed]",
      "text/plain": [
       "<Figure size 432x288 with 1 Axes>"
      ]
     },
     "metadata": {},
     "output_type": "display_data"
    }
   ],
   "source": [
    "plt.plot(model1.history['accuracy'])\n",
    "plt.plot(model1.history['val_accuracy'])\n",
    "plt.title('Model accuracy')\n",
    "plt.ylabel('Accuracy')\n",
    "plt.xlabel('Epoch')\n",
    "plt.legend(['Train', 'Test'], loc='center right')\n",
    "plt.show()"
   ]
  },
  {
   "cell_type": "code",
   "execution_count": 63,
   "id": "d82d77bd",
   "metadata": {},
   "outputs": [
    {
     "data": {
      "image/png": "[encoded data removed]",
      "text/plain": [
       "<Figure size 432x288 with 1 Axes>"
      ]
     },
     "metadata": {},
     "output_type": "display_data"
    }
   ],
   "source": [
    "plt.plot(model1.history['loss'],marker='*')\n",
    "plt.plot(model1.history['val_loss'],marker='*') \n",
    "plt.title('Model loss') \n",
    "plt.ylabel('Loss') \n",
    "plt.xlabel('Epoch') \n",
    "plt.legend(['Valdation', 'Loss'], loc='upper right') \n",
    "plt.show()"
   ]
  },
  {
   "cell_type": "code",
   "execution_count": null,
   "id": "97e0e05d",
   "metadata": {},
   "outputs": [],
   "source": []
  },
  {
   "cell_type": "code",
   "execution_count": null,
   "id": "9297beb4",
   "metadata": {},
   "outputs": [],
   "source": []
  }
 ],
 "metadata": {
  "kernelspec": {
   "display_name": "Python 3 (ipykernel)",
   "language": "python",
   "name": "python3"
  },
  "language_info": {
   "codemirror_mode": {
    "name": "ipython",
    "version": 3
   },
   "file_extension": ".py",
   "mimetype": "text/x-python",
   "name": "python",
   "nbconvert_exporter": "python",
   "pygments_lexer": "ipython3",
   "version": "3.9.12"
  }
 },
 "nbformat": 4,
 "nbformat_minor": 5
}
