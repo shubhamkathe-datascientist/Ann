{
 "cells": [
  {
   "cell_type": "code",
   "execution_count": 1,
   "id": "c9040148",
   "metadata": {},
   "outputs": [],
   "source": [
    "#Importing required libraries\n",
    "import pandas as pd\n",
    "import numpy as np\n",
    "import tensorflow as tf\n",
    "import keras\n",
    "import seaborn as sns\n",
    "import matplotlib.pyplot as plt"
   ]
  },
  {
   "cell_type": "code",
   "execution_count": 2,
   "id": "deea8682",
   "metadata": {},
   "outputs": [],
   "source": [
    "#Reading the Dataset\n",
    "mnist=pd.read_csv(r\"D:\\python files\\MNIST_Train.csv\")"
   ]
  },
  {
   "cell_type": "code",
   "execution_count": 3,
   "id": "40b6ac46",
   "metadata": {},
   "outputs": [
    {
     "data": {
      "text/plain": [
       "(42000, 785)"
      ]
     },
     "execution_count": 3,
     "metadata": {},
     "output_type": "execute_result"
    }
   ],
   "source": [
    "mnist.shape"
   ]
  },
  {
   "cell_type": "code",
   "execution_count": 4,
   "id": "cd180983",
   "metadata": {
    "scrolled": true
   },
   "outputs": [
    {
     "data": {
      "text/html": [
       "<div>\n",
       "<style scoped>\n",
       "    .dataframe tbody tr th:only-of-type {\n",
       "        vertical-align: middle;\n",
       "    }\n",
       "\n",
       "    .dataframe tbody tr th {\n",
       "        vertical-align: top;\n",
       "    }\n",
       "\n",
       "    .dataframe thead th {\n",
       "        text-align: right;\n",
       "    }\n",
       "</style>\n",
       "<table border=\"1\" class=\"dataframe\">\n",
       "  <thead>\n",
       "    <tr style=\"text-align: right;\">\n",
       "      <th></th>\n",
       "      <th>label</th>\n",
       "      <th>pixel0</th>\n",
       "      <th>pixel1</th>\n",
       "      <th>pixel2</th>\n",
       "      <th>pixel3</th>\n",
       "      <th>pixel4</th>\n",
       "      <th>pixel5</th>\n",
       "      <th>pixel6</th>\n",
       "      <th>pixel7</th>\n",
       "      <th>pixel8</th>\n",
       "      <th>...</th>\n",
       "      <th>pixel774</th>\n",
       "      <th>pixel775</th>\n",
       "      <th>pixel776</th>\n",
       "      <th>pixel777</th>\n",
       "      <th>pixel778</th>\n",
       "      <th>pixel779</th>\n",
       "      <th>pixel780</th>\n",
       "      <th>pixel781</th>\n",
       "      <th>pixel782</th>\n",
       "      <th>pixel783</th>\n",
       "    </tr>\n",
       "  </thead>\n",
       "  <tbody>\n",
       "    <tr>\n",
       "      <th>0</th>\n",
       "      <td>1</td>\n",
       "      <td>0</td>\n",
       "      <td>0</td>\n",
       "      <td>0</td>\n",
       "      <td>0</td>\n",
       "      <td>0</td>\n",
       "      <td>0</td>\n",
       "      <td>0</td>\n",
       "      <td>0</td>\n",
       "      <td>0</td>\n",
       "      <td>...</td>\n",
       "      <td>0</td>\n",
       "      <td>0</td>\n",
       "      <td>0</td>\n",
       "      <td>0</td>\n",
       "      <td>0</td>\n",
       "      <td>0</td>\n",
       "      <td>0</td>\n",
       "      <td>0</td>\n",
       "      <td>0</td>\n",
       "      <td>0</td>\n",
       "    </tr>\n",
       "    <tr>\n",
       "      <th>1</th>\n",
       "      <td>0</td>\n",
       "      <td>0</td>\n",
       "      <td>0</td>\n",
       "      <td>0</td>\n",
       "      <td>0</td>\n",
       "      <td>0</td>\n",
       "      <td>0</td>\n",
       "      <td>0</td>\n",
       "      <td>0</td>\n",
       "      <td>0</td>\n",
       "      <td>...</td>\n",
       "      <td>0</td>\n",
       "      <td>0</td>\n",
       "      <td>0</td>\n",
       "      <td>0</td>\n",
       "      <td>0</td>\n",
       "      <td>0</td>\n",
       "      <td>0</td>\n",
       "      <td>0</td>\n",
       "      <td>0</td>\n",
       "      <td>0</td>\n",
       "    </tr>\n",
       "    <tr>\n",
       "      <th>2</th>\n",
       "      <td>1</td>\n",
       "      <td>0</td>\n",
       "      <td>0</td>\n",
       "      <td>0</td>\n",
       "      <td>0</td>\n",
       "      <td>0</td>\n",
       "      <td>0</td>\n",
       "      <td>0</td>\n",
       "      <td>0</td>\n",
       "      <td>0</td>\n",
       "      <td>...</td>\n",
       "      <td>0</td>\n",
       "      <td>0</td>\n",
       "      <td>0</td>\n",
       "      <td>0</td>\n",
       "      <td>0</td>\n",
       "      <td>0</td>\n",
       "      <td>0</td>\n",
       "      <td>0</td>\n",
       "      <td>0</td>\n",
       "      <td>0</td>\n",
       "    </tr>\n",
       "    <tr>\n",
       "      <th>3</th>\n",
       "      <td>4</td>\n",
       "      <td>0</td>\n",
       "      <td>0</td>\n",
       "      <td>0</td>\n",
       "      <td>0</td>\n",
       "      <td>0</td>\n",
       "      <td>0</td>\n",
       "      <td>0</td>\n",
       "      <td>0</td>\n",
       "      <td>0</td>\n",
       "      <td>...</td>\n",
       "      <td>0</td>\n",
       "      <td>0</td>\n",
       "      <td>0</td>\n",
       "      <td>0</td>\n",
       "      <td>0</td>\n",
       "      <td>0</td>\n",
       "      <td>0</td>\n",
       "      <td>0</td>\n",
       "      <td>0</td>\n",
       "      <td>0</td>\n",
       "    </tr>\n",
       "    <tr>\n",
       "      <th>4</th>\n",
       "      <td>0</td>\n",
       "      <td>0</td>\n",
       "      <td>0</td>\n",
       "      <td>0</td>\n",
       "      <td>0</td>\n",
       "      <td>0</td>\n",
       "      <td>0</td>\n",
       "      <td>0</td>\n",
       "      <td>0</td>\n",
       "      <td>0</td>\n",
       "      <td>...</td>\n",
       "      <td>0</td>\n",
       "      <td>0</td>\n",
       "      <td>0</td>\n",
       "      <td>0</td>\n",
       "      <td>0</td>\n",
       "      <td>0</td>\n",
       "      <td>0</td>\n",
       "      <td>0</td>\n",
       "      <td>0</td>\n",
       "      <td>0</td>\n",
       "    </tr>\n",
       "  </tbody>\n",
       "</table>\n",
       "<p>5 rows × 785 columns</p>\n",
       "</div>"
      ],
      "text/plain": [
       "   label  pixel0  pixel1  pixel2  pixel3  pixel4  pixel5  pixel6  pixel7  \\\n",
       "0      1       0       0       0       0       0       0       0       0   \n",
       "1      0       0       0       0       0       0       0       0       0   \n",
       "2      1       0       0       0       0       0       0       0       0   \n",
       "3      4       0       0       0       0       0       0       0       0   \n",
       "4      0       0       0       0       0       0       0       0       0   \n",
       "\n",
       "   pixel8  ...  pixel774  pixel775  pixel776  pixel777  pixel778  pixel779  \\\n",
       "0       0  ...         0         0         0         0         0         0   \n",
       "1       0  ...         0         0         0         0         0         0   \n",
       "2       0  ...         0         0         0         0         0         0   \n",
       "3       0  ...         0         0         0         0         0         0   \n",
       "4       0  ...         0         0         0         0         0         0   \n",
       "\n",
       "   pixel780  pixel781  pixel782  pixel783  \n",
       "0         0         0         0         0  \n",
       "1         0         0         0         0  \n",
       "2         0         0         0         0  \n",
       "3         0         0         0         0  \n",
       "4         0         0         0         0  \n",
       "\n",
       "[5 rows x 785 columns]"
      ]
     },
     "execution_count": 4,
     "metadata": {},
     "output_type": "execute_result"
    }
   ],
   "source": [
    "mnist.head()"
   ]
  },
  {
   "cell_type": "code",
   "execution_count": 6,
   "id": "58082ffe",
   "metadata": {},
   "outputs": [
    {
     "data": {
      "text/plain": [
       "1    4684\n",
       "7    4401\n",
       "3    4351\n",
       "9    4188\n",
       "2    4177\n",
       "6    4137\n",
       "0    4132\n",
       "4    4072\n",
       "8    4063\n",
       "5    3795\n",
       "Name: label, dtype: int64"
      ]
     },
     "execution_count": 6,
     "metadata": {},
     "output_type": "execute_result"
    }
   ],
   "source": [
    "mnist.label.value_counts()"
   ]
  },
  {
   "cell_type": "code",
   "execution_count": 7,
   "id": "1e53a4ec",
   "metadata": {},
   "outputs": [],
   "source": [
    "pd.set_option('display.max_rows',None)\n",
    "pd.set_option('display.max_columns',None)"
   ]
  },
  {
   "cell_type": "code",
   "execution_count": 8,
   "id": "478b0d83",
   "metadata": {},
   "outputs": [
    {
     "data": {
      "text/plain": [
       "Series([], dtype: int64)"
      ]
     },
     "execution_count": 8,
     "metadata": {},
     "output_type": "execute_result"
    }
   ],
   "source": [
    "mnist.isna().sum()[mnist.isna().sum()>0]\n"
   ]
  },
  {
   "cell_type": "code",
   "execution_count": 9,
   "id": "5fb146a5",
   "metadata": {},
   "outputs": [
    {
     "data": {
      "text/plain": [
       "Index(['label', 'pixel0', 'pixel1', 'pixel2', 'pixel3', 'pixel4', 'pixel5',\n",
       "       'pixel6', 'pixel7', 'pixel8',\n",
       "       ...\n",
       "       'pixel774', 'pixel775', 'pixel776', 'pixel777', 'pixel778', 'pixel779',\n",
       "       'pixel780', 'pixel781', 'pixel782', 'pixel783'],\n",
       "      dtype='object', length=785)"
      ]
     },
     "execution_count": 9,
     "metadata": {},
     "output_type": "execute_result"
    }
   ],
   "source": [
    "#Column names in the Dataset\n",
    "mnist.columns"
   ]
  },
  {
   "cell_type": "code",
   "execution_count": 10,
   "id": "5a346729",
   "metadata": {},
   "outputs": [
    {
     "name": "stdout",
     "output_type": "stream",
     "text": [
      "<class 'pandas.core.frame.DataFrame'>\n",
      "RangeIndex: 42000 entries, 0 to 41999\n",
      "Columns: 785 entries, label to pixel783\n",
      "dtypes: int64(785)\n",
      "memory usage: 251.5 MB\n"
     ]
    }
   ],
   "source": [
    "#Columns information\n",
    "mnist.info()"
   ]
  },
  {
   "cell_type": "code",
   "execution_count": null,
   "id": "fd0c3b8a",
   "metadata": {},
   "outputs": [],
   "source": []
  },
  {
   "cell_type": "code",
   "execution_count": 11,
   "id": "7cfedff5",
   "metadata": {},
   "outputs": [],
   "source": [
    "# to build the nn model which can identify the hand written digits \n",
    "# but we used a cnn algorithm "
   ]
  },
  {
   "cell_type": "code",
   "execution_count": 12,
   "id": "b3bcd045",
   "metadata": {},
   "outputs": [],
   "source": [
    "from sklearn.model_selection import train_test_split #here we import train_test_split for sampling"
   ]
  },
  {
   "cell_type": "code",
   "execution_count": 13,
   "id": "5f93307e",
   "metadata": {},
   "outputs": [],
   "source": [
    "mnist_train,mnist_test=train_test_split(mnist,test_size=.2)"
   ]
  },
  {
   "cell_type": "code",
   "execution_count": 14,
   "id": "dddff381",
   "metadata": {},
   "outputs": [],
   "source": [
    "mnist_train_x=mnist_train.iloc[:,1::]#split into x(indipendant) and y(dependant) \n",
    "mnist_train_y=mnist_train.iloc[:,0]"
   ]
  },
  {
   "cell_type": "code",
   "execution_count": 15,
   "id": "1393312f",
   "metadata": {},
   "outputs": [],
   "source": [
    "mnist_test_x=mnist_test.iloc[:,1::]\n",
    "mnist_test_y=mnist_test.iloc[:,0]"
   ]
  },
  {
   "cell_type": "code",
   "execution_count": 16,
   "id": "91d348a6",
   "metadata": {},
   "outputs": [],
   "source": [
    "# we convert the data into the array\n",
    "mnist_train_x=np.array(mnist_train_x)\n",
    "mnist_test_x=np.array(mnist_test_x)"
   ]
  },
  {
   "cell_type": "code",
   "execution_count": 17,
   "id": "fa0fba17",
   "metadata": {},
   "outputs": [],
   "source": [
    "# normalize is will make your data unitless\n",
    "mnist_train_x = tf.keras.utils.normalize(mnist_train_x)\n",
    "mnist_test_x = tf.keras.utils.normalize(mnist_test_x)"
   ]
  },
  {
   "cell_type": "code",
   "execution_count": 18,
   "id": "8d31db9a",
   "metadata": {},
   "outputs": [
    {
     "data": {
      "text/plain": [
       "numpy.ndarray"
      ]
     },
     "execution_count": 18,
     "metadata": {},
     "output_type": "execute_result"
    }
   ],
   "source": [
    "type(mnist_train_x)"
   ]
  },
  {
   "cell_type": "code",
   "execution_count": 19,
   "id": "eaba39a8",
   "metadata": {},
   "outputs": [
    {
     "data": {
      "text/plain": [
       "array([[0., 0., 0., ..., 0., 0., 0.],\n",
       "       [0., 0., 0., ..., 0., 0., 0.],\n",
       "       [0., 0., 0., ..., 0., 0., 0.],\n",
       "       ...,\n",
       "       [0., 0., 0., ..., 0., 0., 0.],\n",
       "       [0., 0., 0., ..., 0., 0., 0.],\n",
       "       [0., 0., 0., ..., 0., 0., 0.]])"
      ]
     },
     "execution_count": 19,
     "metadata": {},
     "output_type": "execute_result"
    }
   ],
   "source": [
    "mnist_test_x"
   ]
  },
  {
   "cell_type": "code",
   "execution_count": null,
   "id": "fc685f5e",
   "metadata": {},
   "outputs": [],
   "source": []
  },
  {
   "cell_type": "code",
   "execution_count": 20,
   "id": "736f0fc1",
   "metadata": {},
   "outputs": [
    {
     "data": {
      "text/plain": [
       "(33600, 28, 28, 1)"
      ]
     },
     "execution_count": 20,
     "metadata": {},
     "output_type": "execute_result"
    }
   ],
   "source": [
    "# here we reshape our every every image in 28*28*1 format because there is chances\n",
    "# the image are in the other shapes also \n",
    "\n",
    "mnist_train_x = mnist_train_x.reshape(-1,28,28,1)\n",
    "mnist_train_x.shape"
   ]
  },
  {
   "cell_type": "code",
   "execution_count": 21,
   "id": "3eb7eee3",
   "metadata": {},
   "outputs": [],
   "source": [
    "from keras.models import Sequential \n",
    "from keras.layers import Conv2D , MaxPool2D , Flatten , Dense , Dropout \n",
    "\n",
    "from tensorflow.keras.utils import to_categorical"
   ]
  },
  {
   "cell_type": "code",
   "execution_count": 22,
   "id": "0493135f",
   "metadata": {},
   "outputs": [],
   "source": [
    "model = Sequential()#intialing\n",
    "model.add(Conv2D(filters =16 , kernel_size =(5,5) , activation='relu', padding='same'))\n",
    "model.add(MaxPool2D (pool_size=(2,2)))\n",
    "model.add(Flatten())\n",
    "model.add(Dense(128 , activation='relu'))\n",
    "model.add(Dense(10 , activation='softmax'))\n",
    "# sequential means the exexicution of the model \n",
    "# we used 16 type of filters(slider) at here\n",
    "# we exicute the steps same like neural network execution"
   ]
  },
  {
   "cell_type": "code",
   "execution_count": 23,
   "id": "08ff7ea6",
   "metadata": {},
   "outputs": [],
   "source": [
    "model.compile(optimizer= 'adam',loss= 'sparse_categorical_crossentropy', metrics =['accuracy'])"
   ]
  },
  {
   "cell_type": "code",
   "execution_count": 24,
   "id": "68eeb59c",
   "metadata": {},
   "outputs": [
    {
     "name": "stdout",
     "output_type": "stream",
     "text": [
      "Epoch 1/10\n",
      "269/269 [==============================] - 4s 14ms/step - loss: 0.6081 - accuracy: 0.8517 - val_loss: 0.2574 - val_accuracy: 0.9211\n",
      "Epoch 2/10\n",
      "269/269 [==============================] - 4s 14ms/step - loss: 0.2081 - accuracy: 0.9381 - val_loss: 0.1830 - val_accuracy: 0.9448\n",
      "Epoch 3/10\n",
      "269/269 [==============================] - 4s 14ms/step - loss: 0.1416 - accuracy: 0.9580 - val_loss: 0.1217 - val_accuracy: 0.9655\n",
      "Epoch 4/10\n",
      "269/269 [==============================] - 4s 14ms/step - loss: 0.1027 - accuracy: 0.9693 - val_loss: 0.0996 - val_accuracy: 0.9731\n",
      "Epoch 5/10\n",
      "269/269 [==============================] - 4s 13ms/step - loss: 0.0793 - accuracy: 0.9764 - val_loss: 0.0926 - val_accuracy: 0.9740\n",
      "Epoch 6/10\n",
      "269/269 [==============================] - 4s 13ms/step - loss: 0.0645 - accuracy: 0.9803 - val_loss: 0.0842 - val_accuracy: 0.9771\n",
      "Epoch 7/10\n",
      "269/269 [==============================] - 4s 13ms/step - loss: 0.0524 - accuracy: 0.9849 - val_loss: 0.0816 - val_accuracy: 0.9763\n",
      "Epoch 8/10\n",
      "269/269 [==============================] - 4s 14ms/step - loss: 0.0439 - accuracy: 0.9870 - val_loss: 0.0707 - val_accuracy: 0.9787\n",
      "Epoch 9/10\n",
      "269/269 [==============================] - 4s 16ms/step - loss: 0.0376 - accuracy: 0.9895 - val_loss: 0.0730 - val_accuracy: 0.9784\n",
      "Epoch 10/10\n",
      "269/269 [==============================] - 4s 15ms/step - loss: 0.0315 - accuracy: 0.9912 - val_loss: 0.0700 - val_accuracy: 0.9783\n"
     ]
    }
   ],
   "source": [
    "model1= model.fit(mnist_train_x ,mnist_train_y , epochs=10 ,validation_split=.2,batch_size =100)"
   ]
  },
  {
   "cell_type": "code",
   "execution_count": null,
   "id": "59568b5d",
   "metadata": {},
   "outputs": [],
   "source": []
  },
  {
   "cell_type": "code",
   "execution_count": 25,
   "id": "86f8df0a",
   "metadata": {},
   "outputs": [],
   "source": [
    "mnist_test_x=np.array(mnist_test_x)\n",
    "mnist_test_x=mnist_test_x.reshape(-1,28,28,1)"
   ]
  },
  {
   "cell_type": "code",
   "execution_count": 28,
   "id": "82b46bcf",
   "metadata": {},
   "outputs": [
    {
     "name": "stdout",
     "output_type": "stream",
     "text": [
      "263/263 [==============================] - 0s 2ms/step\n"
     ]
    }
   ],
   "source": [
    "pred_values=model.predict(mnist_test_x)"
   ]
  },
  {
   "cell_type": "code",
   "execution_count": 29,
   "id": "09faa3e1",
   "metadata": {},
   "outputs": [
    {
     "data": {
      "text/plain": [
       "(8400, 10)"
      ]
     },
     "execution_count": 29,
     "metadata": {},
     "output_type": "execute_result"
    }
   ],
   "source": [
    "pred_values.shape"
   ]
  },
  {
   "cell_type": "code",
   "execution_count": 30,
   "id": "1ab35275",
   "metadata": {},
   "outputs": [],
   "source": [
    "pred_classes = np.argmax(pred_values , axis =1 )"
   ]
  },
  {
   "cell_type": "code",
   "execution_count": 31,
   "id": "c019e04c",
   "metadata": {},
   "outputs": [],
   "source": [
    "from sklearn import metrics \n",
    "from sklearn.metrics import f1_score"
   ]
  },
  {
   "cell_type": "code",
   "execution_count": 32,
   "id": "e621b39c",
   "metadata": {},
   "outputs": [
    {
     "name": "stdout",
     "output_type": "stream",
     "text": [
      "              precision    recall  f1-score   support\n",
      "\n",
      "           0       0.98      0.99      0.98       803\n",
      "           1       0.99      0.99      0.99       924\n",
      "           2       0.98      0.98      0.98       842\n",
      "           3       0.98      0.98      0.98       838\n",
      "           4       0.99      0.98      0.98       824\n",
      "           5       0.98      0.98      0.98       772\n",
      "           6       0.99      0.98      0.98       873\n",
      "           7       0.99      0.98      0.98       890\n",
      "           8       0.98      0.96      0.97       835\n",
      "           9       0.96      0.99      0.97       799\n",
      "\n",
      "    accuracy                           0.98      8400\n",
      "   macro avg       0.98      0.98      0.98      8400\n",
      "weighted avg       0.98      0.98      0.98      8400\n",
      "\n"
     ]
    }
   ],
   "source": [
    "\n",
    "\n",
    "from sklearn import metrics \n",
    "from sklearn.metrics import f1_score\n",
    "\n",
    "classification_report = metrics.classification_report(mnist_test_y ,pred_classes )\n",
    "\n",
    "print(classification_report)"
   ]
  },
  {
   "cell_type": "code",
   "execution_count": 40,
   "id": "e4760703",
   "metadata": {},
   "outputs": [
    {
     "data": {
      "text/plain": [
       "array([[792,   1,   1,   0,   1,   2,   2,   0,   2,   2],\n",
       "       [  0, 916,   2,   1,   1,   0,   1,   2,   1,   0],\n",
       "       [  1,   3, 829,   3,   0,   0,   0,   4,   0,   2],\n",
       "       [  0,   0,   2, 821,   0,   5,   1,   2,   4,   3],\n",
       "       [  1,   1,   1,   0, 811,   0,   1,   1,   0,   8],\n",
       "       [  2,   0,   1,   3,   0, 756,   2,   1,   6,   1],\n",
       "       [  9,   0,   0,   0,   2,   3, 854,   0,   5,   0],\n",
       "       [  1,   1,   5,   3,   0,   0,   0, 874,   0,   6],\n",
       "       [  5,   7,   6,   2,   3,   2,   2,   2, 798,   8],\n",
       "       [  1,   0,   0,   3,   5,   0,   0,   1,   1, 788]], dtype=int64)"
      ]
     },
     "execution_count": 40,
     "metadata": {},
     "output_type": "execute_result"
    }
   ],
   "source": [
    "from sklearn.metrics import confusion_matrix\n",
    "tab=confusion_matrix(mnist_test_y ,pred_classes )\n",
    "tab"
   ]
  },
  {
   "cell_type": "code",
   "execution_count": 41,
   "id": "55e4dd0f",
   "metadata": {},
   "outputs": [
    {
     "data": {
      "text/plain": [
       "0.9808333333333333"
      ]
     },
     "execution_count": 41,
     "metadata": {},
     "output_type": "execute_result"
    }
   ],
   "source": [
    "from sklearn.metrics import accuracy_score\n",
    "accuracy_score(mnist_test_y ,pred_classes )"
   ]
  },
  {
   "cell_type": "code",
   "execution_count": 35,
   "id": "995ccb46",
   "metadata": {},
   "outputs": [
    {
     "data": {
      "text/html": [
       "<div>\n",
       "<style scoped>\n",
       "    .dataframe tbody tr th:only-of-type {\n",
       "        vertical-align: middle;\n",
       "    }\n",
       "\n",
       "    .dataframe tbody tr th {\n",
       "        vertical-align: top;\n",
       "    }\n",
       "\n",
       "    .dataframe thead th {\n",
       "        text-align: right;\n",
       "    }\n",
       "</style>\n",
       "<table border=\"1\" class=\"dataframe\">\n",
       "  <thead>\n",
       "    <tr style=\"text-align: right;\">\n",
       "      <th></th>\n",
       "      <th>loss</th>\n",
       "      <th>accuracy</th>\n",
       "      <th>val_loss</th>\n",
       "      <th>val_accuracy</th>\n",
       "    </tr>\n",
       "  </thead>\n",
       "  <tbody>\n",
       "    <tr>\n",
       "      <th>0</th>\n",
       "      <td>0.608143</td>\n",
       "      <td>0.851674</td>\n",
       "      <td>0.257443</td>\n",
       "      <td>0.921131</td>\n",
       "    </tr>\n",
       "    <tr>\n",
       "      <th>1</th>\n",
       "      <td>0.208060</td>\n",
       "      <td>0.938132</td>\n",
       "      <td>0.183019</td>\n",
       "      <td>0.944792</td>\n",
       "    </tr>\n",
       "    <tr>\n",
       "      <th>2</th>\n",
       "      <td>0.141588</td>\n",
       "      <td>0.957999</td>\n",
       "      <td>0.121717</td>\n",
       "      <td>0.965476</td>\n",
       "    </tr>\n",
       "    <tr>\n",
       "      <th>3</th>\n",
       "      <td>0.102685</td>\n",
       "      <td>0.969308</td>\n",
       "      <td>0.099644</td>\n",
       "      <td>0.973065</td>\n",
       "    </tr>\n",
       "    <tr>\n",
       "      <th>4</th>\n",
       "      <td>0.079279</td>\n",
       "      <td>0.976376</td>\n",
       "      <td>0.092600</td>\n",
       "      <td>0.973958</td>\n",
       "    </tr>\n",
       "    <tr>\n",
       "      <th>5</th>\n",
       "      <td>0.064516</td>\n",
       "      <td>0.980283</td>\n",
       "      <td>0.084233</td>\n",
       "      <td>0.977083</td>\n",
       "    </tr>\n",
       "    <tr>\n",
       "      <th>6</th>\n",
       "      <td>0.052371</td>\n",
       "      <td>0.984933</td>\n",
       "      <td>0.081568</td>\n",
       "      <td>0.976339</td>\n",
       "    </tr>\n",
       "    <tr>\n",
       "      <th>7</th>\n",
       "      <td>0.043902</td>\n",
       "      <td>0.987016</td>\n",
       "      <td>0.070706</td>\n",
       "      <td>0.978720</td>\n",
       "    </tr>\n",
       "    <tr>\n",
       "      <th>8</th>\n",
       "      <td>0.037579</td>\n",
       "      <td>0.989509</td>\n",
       "      <td>0.073005</td>\n",
       "      <td>0.978423</td>\n",
       "    </tr>\n",
       "    <tr>\n",
       "      <th>9</th>\n",
       "      <td>0.031518</td>\n",
       "      <td>0.991220</td>\n",
       "      <td>0.070022</td>\n",
       "      <td>0.978274</td>\n",
       "    </tr>\n",
       "  </tbody>\n",
       "</table>\n",
       "</div>"
      ],
      "text/plain": [
       "       loss  accuracy  val_loss  val_accuracy\n",
       "0  0.608143  0.851674  0.257443      0.921131\n",
       "1  0.208060  0.938132  0.183019      0.944792\n",
       "2  0.141588  0.957999  0.121717      0.965476\n",
       "3  0.102685  0.969308  0.099644      0.973065\n",
       "4  0.079279  0.976376  0.092600      0.973958\n",
       "5  0.064516  0.980283  0.084233      0.977083\n",
       "6  0.052371  0.984933  0.081568      0.976339\n",
       "7  0.043902  0.987016  0.070706      0.978720\n",
       "8  0.037579  0.989509  0.073005      0.978423\n",
       "9  0.031518  0.991220  0.070022      0.978274"
      ]
     },
     "execution_count": 35,
     "metadata": {},
     "output_type": "execute_result"
    }
   ],
   "source": [
    "df1 = pd.DataFrame(model1.history)\n",
    "df1"
   ]
  },
  {
   "cell_type": "code",
   "execution_count": null,
   "id": "34158072",
   "metadata": {},
   "outputs": [],
   "source": []
  },
  {
   "cell_type": "code",
   "execution_count": 36,
   "id": "ae441e58",
   "metadata": {},
   "outputs": [
    {
     "data": {
      "text/plain": [
       "<matplotlib.legend.Legend at 0x1fdb3b13dc0>"
      ]
     },
     "execution_count": 36,
     "metadata": {},
     "output_type": "execute_result"
    },
    {
     "data": {
      "image/png": "[encoded data removed]",
      "text/plain": [
       "<Figure size 432x288 with 1 Axes>"
      ]
     },
     "metadata": {
      "needs_background": "light"
     },
     "output_type": "display_data"
    }
   ],
   "source": [
    "plt.plot(df1.val_loss, color = 'r', marker = '.', label = \"Validation\")\n",
    "plt.plot(df1.loss,color = 'b', marker = '.',label = \"Loss\")\n",
    "plt.legend()"
   ]
  },
  {
   "cell_type": "code",
   "execution_count": 37,
   "id": "ac32bca9",
   "metadata": {},
   "outputs": [
    {
     "data": {
      "image/png": "[encoded data removed]",
      "text/plain": [
       "<Figure size 432x288 with 1 Axes>"
      ]
     },
     "metadata": {
      "needs_background": "light"
     },
     "output_type": "display_data"
    }
   ],
   "source": [
    "plt.plot(model1.history['accuracy'])\n",
    "plt.plot(model1.history['val_accuracy'])\n",
    "plt.title('Model accuracy')\n",
    "plt.ylabel('Accuracy')\n",
    "plt.xlabel('Epoch')\n",
    "plt.legend(['Train', 'Test'], loc='upper left')\n",
    "plt.show()"
   ]
  },
  {
   "cell_type": "code",
   "execution_count": 38,
   "id": "90617d54",
   "metadata": {},
   "outputs": [
    {
     "data": {
      "image/png": "[encoded data removed]",
      "text/plain": [
       "<Figure size 432x288 with 1 Axes>"
      ]
     },
     "metadata": {
      "needs_background": "light"
     },
     "output_type": "display_data"
    }
   ],
   "source": [
    "plt.plot(model1.history['loss'],marker='*')\n",
    "plt.plot(model1.history['val_loss'],marker='*') \n",
    "plt.title('Model loss') \n",
    "plt.ylabel('Loss') \n",
    "plt.xlabel('Epoch') \n",
    "plt.legend(['Valdation', 'Loss'], loc='upper right') \n",
    "plt.show()"
   ]
  },
  {
   "cell_type": "code",
   "execution_count": null,
   "id": "b210a29e",
   "metadata": {},
   "outputs": [],
   "source": []
  },
  {
   "cell_type": "code",
   "execution_count": null,
   "id": "a84f28f0",
   "metadata": {},
   "outputs": [],
   "source": []
  },
  {
   "cell_type": "code",
   "execution_count": null,
   "id": "9db5e36f",
   "metadata": {},
   "outputs": [],
   "source": []
  },
  {
   "cell_type": "code",
   "execution_count": null,
   "id": "a9335955",
   "metadata": {},
   "outputs": [],
   "source": []
  },
  {
   "cell_type": "code",
   "execution_count": null,
   "id": "371f7ee6",
   "metadata": {},
   "outputs": [],
   "source": []
  },
  {
   "cell_type": "code",
   "execution_count": null,
   "id": "fa9f21c5",
   "metadata": {},
   "outputs": [],
   "source": []
  },
  {
   "cell_type": "code",
   "execution_count": null,
   "id": "7b2c938d",
   "metadata": {},
   "outputs": [],
   "source": []
  },
  {
   "cell_type": "code",
   "execution_count": null,
   "id": "4df7d50f",
   "metadata": {},
   "outputs": [],
   "source": []
  },
  {
   "cell_type": "code",
   "execution_count": null,
   "id": "70541520",
   "metadata": {},
   "outputs": [],
   "source": []
  },
  {
   "cell_type": "code",
   "execution_count": null,
   "id": "65608296",
   "metadata": {},
   "outputs": [],
   "source": []
  },
  {
   "cell_type": "code",
   "execution_count": null,
   "id": "e7e41c17",
   "metadata": {},
   "outputs": [],
   "source": []
  },
  {
   "cell_type": "code",
   "execution_count": null,
   "id": "e1521f9b",
   "metadata": {},
   "outputs": [],
   "source": [
    "\n"
   ]
  }
 ],
 "metadata": {
  "kernelspec": {
   "display_name": "Python 3 (ipykernel)",
   "language": "python",
   "name": "python3"
  },
  "language_info": {
   "codemirror_mode": {
    "name": "ipython",
    "version": 3
   },
   "file_extension": ".py",
   "mimetype": "text/x-python",
   "name": "python",
   "nbconvert_exporter": "python",
   "pygments_lexer": "ipython3",
   "version": "3.9.12"
  }
 },
 "nbformat": 4,
 "nbformat_minor": 5
}
